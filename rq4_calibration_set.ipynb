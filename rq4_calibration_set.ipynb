{
 "cells": [
  {
   "cell_type": "code",
   "execution_count": 1,
   "id": "ac19b42c",
   "metadata": {},
   "outputs": [],
   "source": [
    "%load_ext autoreload\n",
    "%autoreload 2"
   ]
  },
  {
   "cell_type": "code",
   "execution_count": 13,
   "id": "28889467",
   "metadata": {},
   "outputs": [],
   "source": [
    "import sys\n",
    "import os\n",
    "sys.path.insert(0, os.path.abspath(\".\"))\n",
    "\n",
    "from transformers import AutoModelForSeq2SeqLM, AutoTokenizer, DataCollatorForSeq2Seq, Seq2SeqTrainingArguments, Seq2SeqTrainer\n",
    "from datasets import load_dataset, Dataset, DatasetDict, load_from_disk\n",
    "from evaluate import load\n",
    "import numpy as np\n",
    "\n",
    "# import vllm\n",
    "from tqdm import tqdm\n",
    "from lib.preprocessing import preprocess_data\n",
    "from lib.training_utils import train_model, translate_text\n"
   ]
  },
  {
   "cell_type": "code",
   "execution_count": 15,
   "id": "d1bc380b",
   "metadata": {},
   "outputs": [],
   "source": [
    "from evaluate import load"
   ]
  },
  {
   "cell_type": "markdown",
   "id": "0235085e",
   "metadata": {},
   "source": [
    "## Load the medline data and divide it into train and calibration set"
   ]
  },
  {
   "cell_type": "code",
   "execution_count": 9,
   "id": "b2cb3f61",
   "metadata": {},
   "outputs": [],
   "source": [
    "data = load_dataset(\"sethjsa/medline_en_ru_parallel\")\n",
    "\n",
    "# shuffle with seed 42 and take last 1000 samples for calibration\n",
    "data[\"calibration\"] = data[\"train\"].shuffle(seed=42).select(range(len(data[\"train\"]) - 1000, len(data[\"train\"])))"
   ]
  },
  {
   "cell_type": "code",
   "execution_count": 26,
   "id": "d90bd97e",
   "metadata": {},
   "outputs": [
    {
     "data": {
      "text/plain": [
       "917"
      ]
     },
     "execution_count": 26,
     "metadata": {},
     "output_type": "execute_result"
    }
   ],
   "source": [
    "# remove duplicates from the calibration set\n",
    "calibration_set = data[\"calibration\"].to_pandas()\n",
    "calibration_set = calibration_set.drop_duplicates(subset=[\"en\", \"ru\"])\n",
    "len(calibration_set)  # 917"
   ]
  },
  {
   "cell_type": "markdown",
   "id": "ed19f20f",
   "metadata": {},
   "source": [
    "## Load the model trained on 6500 samples (no calibration)\n",
    "\n",
    "and translate the whole calibration set"
   ]
  },
  {
   "cell_type": "code",
   "execution_count": 12,
   "id": "8c81fdb5",
   "metadata": {},
   "outputs": [],
   "source": [
    "tokenizer = AutoTokenizer.from_pretrained(\"Helsinki-NLP/opus-mt-en-ru\")\n",
    "model = AutoModelForSeq2SeqLM.from_pretrained(\"results/rq4/model_6500_medline\")"
   ]
  },
  {
   "cell_type": "code",
   "execution_count": 28,
   "id": "90dc7865",
   "metadata": {},
   "outputs": [
    {
     "name": "stdout",
     "output_type": "stream",
     "text": [
      "Using device: cuda\n"
     ]
    },
    {
     "name": "stderr",
     "output_type": "stream",
     "text": [
      "Translating:   0%|                                                                                 | 0/15 [00:00<?, ?it/s]/home/scur2189/.conda/envs/nmt/lib/python3.10/site-packages/transformers/generation/configuration_utils.py:629: UserWarning: `do_sample` is set to `False`. However, `temperature` is set to `0.0` -- this flag is only used in sample-based generation modes. You should set `do_sample=True` or unset `temperature`.\n",
      "  warnings.warn(\n"
     ]
    },
    {
     "name": "stderr",
     "output_type": "stream",
     "text": [
      "Translating: 100%|████████████████████████████████████████████████████████████████████████| 15/15 [01:19<00:00,  5.31s/it]\n"
     ]
    }
   ],
   "source": [
    "predictions = translate_text(\n",
    "    calibration_set[\"en\"].to_list(),\n",
    "    model,\n",
    "    tokenizer,\n",
    "    max_length=128,\n",
    "    batch_size=64\n",
    ")"
   ]
  },
  {
   "cell_type": "code",
   "execution_count": 29,
   "id": "e6891115",
   "metadata": {},
   "outputs": [],
   "source": [
    "calibration_set['predictions'] = predictions"
   ]
  },
  {
   "cell_type": "markdown",
   "id": "d36207ea",
   "metadata": {},
   "source": [
    "# Assess the quality of each translation"
   ]
  },
  {
   "cell_type": "code",
   "execution_count": 30,
   "id": "9efa2ba0",
   "metadata": {},
   "outputs": [
    {
     "data": {
      "application/vnd.jupyter.widget-view+json": {
       "model_id": "02388bea035e4b35a0cc094c4a1013b1",
       "version_major": 2,
       "version_minor": 0
      },
      "text/plain": [
       "Fetching 5 files:   0%|          | 0/5 [00:00<?, ?it/s]"
      ]
     },
     "metadata": {},
     "output_type": "display_data"
    },
    {
     "name": "stderr",
     "output_type": "stream",
     "text": [
      "Lightning automatically upgraded your loaded checkpoint from v1.8.3.post1 to v2.5.1. To apply the upgrade to your files permanently, run `python -m pytorch_lightning.utilities.upgrade_checkpoint ../../../../home/scur2189/.cache/huggingface/hub/models--Unbabel--wmt22-comet-da/snapshots/2760a223ac957f30acfb18c8aa649b01cf1d75f2/checkpoints/model.ckpt`\n",
      "Encoder model frozen.\n",
      "/home/scur2189/.conda/envs/nmt/lib/python3.10/site-packages/pytorch_lightning/core/saving.py:195: Found keys that are not in the model state dict but in the checkpoint: ['encoder.model.embeddings.position_ids']\n",
      "/home/scur2189/.conda/envs/nmt/lib/python3.10/site-packages/lightning_fabric/plugins/environments/slurm.py:204: The `srun` command is available on your system but is not used. HINT: If your intention is to run Lightning on SLURM, prepend your python command with `srun` like so: srun python /home/scur2189/.conda/envs/nmt/lib/python3.10/site-p ...\n",
      "You are using the plain ModelCheckpoint callback. Consider using LitModelCheckpoint which with seamless uploading to Model registry.\n",
      "GPU available: True (cuda), used: True\n",
      "TPU available: False, using: 0 TPU cores\n",
      "HPU available: False, using: 0 HPUs\n",
      "LOCAL_RANK: 0 - CUDA_VISIBLE_DEVICES: [0]\n"
     ]
    }
   ],
   "source": [
    "comet_metrics = load(\"comet\")\n",
    "\n",
    "comet_score = comet_metrics.compute(\n",
    "    predictions=calibration_set['predictions'],\n",
    "    references=calibration_set[\"ru\"],\n",
    "    sources=calibration_set[\"en\"],\n",
    ")"
   ]
  },
  {
   "cell_type": "code",
   "execution_count": 31,
   "id": "8504b2e8",
   "metadata": {},
   "outputs": [],
   "source": [
    "calibration_set['comet_score'] = comet_score['scores']"
   ]
  },
  {
   "cell_type": "code",
   "execution_count": 39,
   "id": "c23fc221",
   "metadata": {},
   "outputs": [
    {
     "data": {
      "image/png": "[encoded data removed]",
      "text/plain": [
       "<Figure size 1200x900 with 1 Axes>"
      ]
     },
     "metadata": {},
     "output_type": "display_data"
    }
   ],
   "source": [
    "# generate a histogram of comet scores\n",
    "import matplotlib.pyplot as plt\n",
    "import seaborn as sns\n",
    "\n",
    "plt.figure(figsize=(4, 3), dpi=300)\n",
    "\n",
    "scores = calibration_set['comet_score']\n",
    "\n",
    "plt.title(\"COMET Scores for Calibration Set\")\n",
    "\n",
    "plt.xlabel(\"COMET Score\")\n",
    "plt.ylabel(\"Frequency\")\n",
    "plt.hist(scores, bins=30, color='skyblue', edgecolor='black')\n",
    "plt.grid(axis='y', alpha=0.75)\n",
    "\n",
    "plt.show()"
   ]
  },
  {
   "cell_type": "code",
   "execution_count": null,
   "id": "d5ee8ba1",
   "metadata": {},
   "outputs": [
    {
     "data": {
      "text/html": [
       "<div>\n",
       "<style scoped>\n",
       "    .dataframe tbody tr th:only-of-type {\n",
       "        vertical-align: middle;\n",
       "    }\n",
       "\n",
       "    .dataframe tbody tr th {\n",
       "        vertical-align: top;\n",
       "    }\n",
       "\n",
       "    .dataframe thead th {\n",
       "        text-align: right;\n",
       "    }\n",
       "</style>\n",
       "<table border=\"1\" class=\"dataframe\">\n",
       "  <thead>\n",
       "    <tr style=\"text-align: right;\">\n",
       "      <th></th>\n",
       "      <th>ru</th>\n",
       "      <th>en</th>\n",
       "      <th>predictions</th>\n",
       "      <th>comet_score</th>\n",
       "    </tr>\n",
       "  </thead>\n",
       "  <tbody>\n",
       "    <tr>\n",
       "      <th>64</th>\n",
       "      <td>Материалы и методы.</td>\n",
       "      <td>SUBJECTS AND METHODS</td>\n",
       "      <td>Материалы и методы.</td>\n",
       "      <td>0.989800</td>\n",
       "    </tr>\n",
       "    <tr>\n",
       "      <th>579</th>\n",
       "      <td>Результаты и обсуждение.</td>\n",
       "      <td>RESULTS AND DISCUSSION</td>\n",
       "      <td>Результаты и обсуждение.</td>\n",
       "      <td>0.989779</td>\n",
       "    </tr>\n",
       "    <tr>\n",
       "      <th>37</th>\n",
       "      <td>Материал и методы.</td>\n",
       "      <td>MATERIAL AND METHODS</td>\n",
       "      <td>Материал и методы.</td>\n",
       "      <td>0.988926</td>\n",
       "    </tr>\n",
       "    <tr>\n",
       "      <th>41</th>\n",
       "      <td>Вывод</td>\n",
       "      <td>Conclusion</td>\n",
       "      <td>Вывод</td>\n",
       "      <td>0.987792</td>\n",
       "    </tr>\n",
       "    <tr>\n",
       "      <th>225</th>\n",
       "      <td>Заключение.</td>\n",
       "      <td>CONCLUSION</td>\n",
       "      <td>Заключение.</td>\n",
       "      <td>0.986503</td>\n",
       "    </tr>\n",
       "    <tr>\n",
       "      <th>...</th>\n",
       "      <td>...</td>\n",
       "      <td>...</td>\n",
       "      <td>...</td>\n",
       "      <td>...</td>\n",
       "    </tr>\n",
       "    <tr>\n",
       "      <th>395</th>\n",
       "      <td>Для оценки состояния больных использовались шк...</td>\n",
       "      <td>Concentrations of kappa and lambda FLC in the ...</td>\n",
       "      <td>Определяли концентрацию капппы и алмонды ФЛК в...</td>\n",
       "      <td>0.297237</td>\n",
       "    </tr>\n",
       "    <tr>\n",
       "      <th>760</th>\n",
       "      <td>В 62% случаев были выявлены нарушения режима л...</td>\n",
       "      <td>Approximately 62% of patients did not perform ...</td>\n",
       "      <td>Однако 62% пациентов с препаратами выполненных...</td>\n",
       "      <td>0.295484</td>\n",
       "    </tr>\n",
       "    <tr>\n",
       "      <th>266</th>\n",
       "      <td>В статье приводится краткий обзор описанных в ...</td>\n",
       "      <td>[Vestibular vertigo in hemispheric strokes].</td>\n",
       "      <td>В статье представлены результаты исследований,...</td>\n",
       "      <td>0.292685</td>\n",
       "    </tr>\n",
       "    <tr>\n",
       "      <th>131</th>\n",
       "      <td>В обзорной статье рассматриваются транснациона...</td>\n",
       "      <td>[Children and adolescents in situations of soc...</td>\n",
       "      <td>Результаты и заключение. Результаты и заключение.</td>\n",
       "      <td>0.249010</td>\n",
       "    </tr>\n",
       "    <tr>\n",
       "      <th>624</th>\n",
       "      <td>У отдельных больных, госпитализированных в 201...</td>\n",
       "      <td>Namely, the levels of B. miyamotoi-specific Ig...</td>\n",
       "      <td>Оценивали количественную хирургическую хирурги...</td>\n",
       "      <td>0.241057</td>\n",
       "    </tr>\n",
       "  </tbody>\n",
       "</table>\n",
       "<p>917 rows × 4 columns</p>\n",
       "</div>"
      ],
      "text/plain": [
       "                                                    ru  \\\n",
       "64                                 Материалы и методы.   \n",
       "579                           Результаты и обсуждение.   \n",
       "37                                  Материал и методы.   \n",
       "41                                               Вывод   \n",
       "225                                        Заключение.   \n",
       "..                                                 ...   \n",
       "395  Для оценки состояния больных использовались шк...   \n",
       "760  В 62% случаев были выявлены нарушения режима л...   \n",
       "266  В статье приводится краткий обзор описанных в ...   \n",
       "131  В обзорной статье рассматриваются транснациона...   \n",
       "624  У отдельных больных, госпитализированных в 201...   \n",
       "\n",
       "                                                    en  \\\n",
       "64                                SUBJECTS AND METHODS   \n",
       "579                             RESULTS AND DISCUSSION   \n",
       "37                                MATERIAL AND METHODS   \n",
       "41                                          Conclusion   \n",
       "225                                         CONCLUSION   \n",
       "..                                                 ...   \n",
       "395  Concentrations of kappa and lambda FLC in the ...   \n",
       "760  Approximately 62% of patients did not perform ...   \n",
       "266       [Vestibular vertigo in hemispheric strokes].   \n",
       "131  [Children and adolescents in situations of soc...   \n",
       "624  Namely, the levels of B. miyamotoi-specific Ig...   \n",
       "\n",
       "                                           predictions  comet_score  \n",
       "64                                 Материалы и методы.     0.989800  \n",
       "579                           Результаты и обсуждение.     0.989779  \n",
       "37                                  Материал и методы.     0.988926  \n",
       "41                                               Вывод     0.987792  \n",
       "225                                        Заключение.     0.986503  \n",
       "..                                                 ...          ...  \n",
       "395  Определяли концентрацию капппы и алмонды ФЛК в...     0.297237  \n",
       "760  Однако 62% пациентов с препаратами выполненных...     0.295484  \n",
       "266  В статье представлены результаты исследований,...     0.292685  \n",
       "131  Результаты и заключение. Результаты и заключение.     0.249010  \n",
       "624  Оценивали количественную хирургическую хирурги...     0.241057  \n",
       "\n",
       "[917 rows x 4 columns]"
      ]
     },
     "execution_count": 35,
     "metadata": {},
     "output_type": "execute_result"
    }
   ],
   "source": [
    "calibration_set.sort_values(by='comet_score', ascending=False)"
   ]
  },
  {
   "cell_type": "code",
   "execution_count": null,
   "id": "9baac7ea",
   "metadata": {},
   "outputs": [],
   "source": [
    "# save this calibration set to disk\n",
    "calibration_set.to_csv('results/datasets/rq4/medline_1000_calibration_set.csv', index=False)"
   ]
  },
  {
   "cell_type": "code",
   "execution_count": null,
   "metadata": {},
   "outputs": [],
   "source": []
  }
 ],
 "metadata": {
  "kernelspec": {
   "display_name": "Python 3 (ipykernel)",
   "language": "python",
   "name": "python3"
  },
  "language_info": {
   "codemirror_mode": {
    "name": "ipython",
    "version": 3
   },
   "file_extension": ".py",
   "mimetype": "text/x-python",
   "name": "python",
   "nbconvert_exporter": "python",
   "pygments_lexer": "ipython3",
   "version": "3.10.16"
  }
 },
 "nbformat": 4,
 "nbformat_minor": 5
}
