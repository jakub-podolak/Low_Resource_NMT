{
 "cells": [
  {
   "cell_type": "code",
   "execution_count": 1,
   "id": "59ba3347",
   "metadata": {},
   "outputs": [],
   "source": [
    "%load_ext autoreload\n",
    "%autoreload 2"
   ]
  },
  {
   "cell_type": "code",
   "execution_count": 5,
   "id": "d362e2c8",
   "metadata": {},
   "outputs": [],
   "source": [
    "from transformers import AutoModelForSeq2SeqLM, AutoTokenizer, AutoModelForSequenceClassification\n",
    "from datasets import load_dataset\n",
    "import sys\n",
    "import os\n",
    "sys.path.insert(0, os.path.abspath(\".\"))\n",
    "import torch\n",
    "import torch.nn.functional as F\n",
    "from tqdm.auto import tqdm\n",
    "import numpy as np\n",
    "\n",
    "from lib.training_utils import translate_text\n",
    "from lib.metrics import compute_bleu, compute_comet\n",
    "from lib.preprocessing import preprocess_data"
   ]
  },
  {
   "cell_type": "code",
   "execution_count": 6,
   "id": "10c232d2",
   "metadata": {},
   "outputs": [],
   "source": [
    "def translate_text_n_samples(\n",
    "    texts: list[str],\n",
    "    model: AutoModelForSeq2SeqLM,\n",
    "    tokenizer: AutoTokenizer,\n",
    "    batch_size: int = 32,\n",
    "    max_length: int = 128,\n",
    "    n_samples: int = 5,\n",
    "    temperature: float = 1.0,\n",
    "    num_beams: int = 4,\n",
    "    top_k: int | None = None,\n",
    "    top_p: float | None = None,\n",
    "):\n",
    "    \"\"\"Translate *texts* and return *n_samples* random hypotheses per input.\n",
    "\n",
    "    **Speed‑up trick** ➜ **batch the *n_samples* dimension**.\n",
    "    Instead of calling ``generate`` *n_samples* times, we *tile* each input\n",
    "    ``n_samples`` times and make **one** call.  This re‑uses the encoder pass and\n",
    "    scales much better for large batches (e.g. 128 sources × 5 samples ➜ 640\n",
    "    sequences in a single forward pass).\n",
    "\n",
    "    Returned structure: ``List[List[str]]`` where the inner list holds the\n",
    "    ``n_samples`` hypotheses for that source sentence.\n",
    "    \"\"\"\n",
    "\n",
    "    device = \"cuda\" if torch.cuda.is_available() else \"cpu\"\n",
    "    print(f\"Using device: {device}\")\n",
    "    model = model.to(device)\n",
    "    model.eval()\n",
    "\n",
    "    all_translations: list[list[str]] = []\n",
    "\n",
    "    for start in tqdm(range(0, len(texts), batch_size), desc=\"Translating\"):\n",
    "        batch = texts[start:start + batch_size]\n",
    "        enc = tokenizer(\n",
    "            batch,\n",
    "            return_tensors=\"pt\",\n",
    "            max_length=max_length,\n",
    "            truncation=True,\n",
    "            padding=True,\n",
    "        )\n",
    "        enc = {k: v.to(device) for k, v in enc.items()}\n",
    "\n",
    "        # ----  B  A  T  C  H   N  _  S  A  M  P  L  E  S  ----\n",
    "        # Repeat each row of the batch n_samples times so the model sees\n",
    "        # (batch_size × n_samples) inputs in one go.\n",
    "        enc = {k: v.repeat_interleave(n_samples, dim=0) for k, v in enc.items()}\n",
    "\n",
    "        with torch.no_grad():\n",
    "            out = model.generate(\n",
    "                **enc,\n",
    "                max_length=max_length,\n",
    "                temperature=temperature,\n",
    "                do_sample=True,\n",
    "                num_beams=num_beams,\n",
    "                num_return_sequences=1,    # still one best per *replicated* input\n",
    "                top_k=(top_k or 0),         # 0 disables top‑k\n",
    "                top_p=(top_p or 1.0),       # 1.0 disables top‑p\n",
    "                early_stopping=True,\n",
    "            )\n",
    "\n",
    "        decoded = tokenizer.batch_decode(out, skip_special_tokens=True)\n",
    "\n",
    "        # regroup: every contiguous n_samples belong to the same source sentence\n",
    "        it = iter(decoded)\n",
    "        batch_samples = [list(next(it) for _ in range(n_samples)) for _ in batch]\n",
    "        all_translations.extend(batch_samples)\n",
    "\n",
    "    return all_translations"
   ]
  },
  {
   "cell_type": "code",
   "execution_count": 7,
   "id": "9ba9a8f3",
   "metadata": {},
   "outputs": [],
   "source": [
    "class EntailmentDeberta():\n",
    "    def __init__(self):\n",
    "        self.tokenizer = AutoTokenizer.from_pretrained(\"microsoft/deberta-v2-xlarge-mnli\")\n",
    "        self.model = AutoModelForSequenceClassification.from_pretrained(\n",
    "            \"microsoft/deberta-v2-xlarge-mnli\").to('cuda')\n",
    "\n",
    "    def check_implication(self, text1, text2, *args, **kwargs):\n",
    "        inputs = self.tokenizer(text1, text2, return_tensors=\"pt\").to('cuda')\n",
    "        # The model checks if text1 -> text2, i.e. if text2 follows from text1.\n",
    "        # check_implication('The weather is good', 'The weather is good and I like you') --> 1\n",
    "        # check_implication('The weather is good and I like you', 'The weather is good') --> 2\n",
    "        outputs = self.model(**inputs)\n",
    "        logits = outputs.logits\n",
    "        # Deberta-mnli returns `neutral` and `entailment` classes at indices 1 and 2.\n",
    "        largest_index = torch.argmax(F.softmax(logits, dim=1))  # pylint: disable=no-member\n",
    "        prediction = largest_index.cpu().item()\n",
    "\n",
    "        return prediction\n",
    "    \n",
    "def get_semantic_ids(strings_list, entailment_model, strict_entailment=False, example=None):\n",
    "    \"\"\"Group list of predictions into semantic meaning.\"\"\"\n",
    "\n",
    "    def are_equivalent(text1, text2):\n",
    "\n",
    "        implication_1 = entailment_model.check_implication(text1, text2, example=example)\n",
    "        implication_2 = entailment_model.check_implication(text2, text1, example=example)  # pylint: disable=arguments-out-of-order\n",
    "        assert (implication_1 in [0, 1, 2]) and (implication_2 in [0, 1, 2])\n",
    "\n",
    "        if strict_entailment:\n",
    "            semantically_equivalent = (implication_1 == 2) and (implication_2 == 2)\n",
    "\n",
    "        else:\n",
    "            implications = [implication_1, implication_2]\n",
    "            # Check if none of the implications are 0 (contradiction) and not both of them are neutral.\n",
    "            semantically_equivalent = (0 not in implications) and ([1, 1] != implications)\n",
    "\n",
    "        return semantically_equivalent\n",
    "\n",
    "    # Initialise all ids with -1.\n",
    "    semantic_set_ids = [-1] * len(strings_list)\n",
    "    # Keep track of current id.\n",
    "    next_id = 0\n",
    "    for i, string1 in enumerate(strings_list):\n",
    "        # Check if string1 already has an id assigned.\n",
    "        if semantic_set_ids[i] == -1:\n",
    "            # If string1 has not been assigned an id, assign it next_id.\n",
    "            semantic_set_ids[i] = next_id\n",
    "            for j in range(i+1, len(strings_list)):\n",
    "                # Search through all remaining strings. If they are equivalent to string1, assign them the same id.\n",
    "                if are_equivalent(string1, strings_list[j]):\n",
    "                    semantic_set_ids[j] = next_id\n",
    "            next_id += 1\n",
    "\n",
    "    assert -1 not in semantic_set_ids\n",
    "\n",
    "    return semantic_set_ids\n",
    "\n",
    "def cluster_assignment_entropy(semantic_ids):\n",
    "    \"\"\"Estimate semantic uncertainty from how often different clusters get assigned.\n",
    "\n",
    "    We estimate the categorical distribution over cluster assignments from the\n",
    "    semantic ids. The uncertainty is then given by the entropy of that\n",
    "    distribution. This estimate does not use token likelihoods, it relies soley\n",
    "    on the cluster assignments. If probability mass is spread of between many\n",
    "    clusters, entropy is larger. If probability mass is concentrated on a few\n",
    "    clusters, entropy is small.\n",
    "\n",
    "    Input:\n",
    "        semantic_ids: List of semantic ids, e.g. [0, 1, 2, 1].\n",
    "    Output:\n",
    "        cluster_entropy: Entropy, e.g. (-p log p).sum() for p = [1/4, 2/4, 1/4].\n",
    "    \"\"\"\n",
    "\n",
    "    n_generations = len(semantic_ids)\n",
    "    counts = np.bincount(semantic_ids)\n",
    "    probabilities = counts/n_generations\n",
    "    assert np.isclose(probabilities.sum(), 1)\n",
    "    entropy = - (probabilities * np.log(probabilities)).sum()\n",
    "    return entropy"
   ]
  },
  {
   "cell_type": "code",
   "execution_count": 9,
   "id": "8895117a",
   "metadata": {},
   "outputs": [],
   "source": [
    "MODEL_TO_EVALUATE = \"results/medline_backtranslated_bt_model_finetuned_on_medline\"\n",
    "tokenizer = AutoTokenizer.from_pretrained(\"Helsinki-NLP/opus-mt-en-ru\")\n",
    "model = AutoModelForSeq2SeqLM.from_pretrained(MODEL_TO_EVALUATE)"
   ]
  },
  {
   "cell_type": "code",
   "execution_count": 10,
   "id": "b9de4502",
   "metadata": {},
   "outputs": [],
   "source": [
    "# Load the dataset to evaluate.\n",
    "dataset = load_dataset(\"sethjsa/wmt20bio_en_ru_sent\")[\"test\"]"
   ]
  },
  {
   "cell_type": "code",
   "execution_count": 13,
   "id": "6affd867",
   "metadata": {},
   "outputs": [
    {
     "name": "stdout",
     "output_type": "stream",
     "text": [
      "Using device: cuda\n"
     ]
    },
    {
     "data": {
      "application/vnd.jupyter.widget-view+json": {
       "model_id": "f421aa30638b401ba5c77edbb0ef7556",
       "version_major": 2,
       "version_minor": 0
      },
      "text/plain": [
       "Translating:   0%|          | 0/5 [00:00<?, ?it/s]"
      ]
     },
     "metadata": {},
     "output_type": "display_data"
    }
   ],
   "source": [
    "translations = translate_text_n_samples(\n",
    "    texts=dataset['en'],\n",
    "    model=model,\n",
    "    tokenizer=tokenizer,\n",
    "    n_samples=5,\n",
    "    batch_size=64\n",
    ") # 24.4s for 100 samples, for 30_000 samples it's 300 * 25s = around 2h"
   ]
  },
  {
   "cell_type": "code",
   "execution_count": 18,
   "id": "bbbdfa4e",
   "metadata": {},
   "outputs": [],
   "source": [
    "# calculate entropy for each translation\n",
    "entailment_model = EntailmentDeberta()"
   ]
  },
  {
   "cell_type": "code",
   "execution_count": 20,
   "id": "3b1e6bc6",
   "metadata": {},
   "outputs": [
    {
     "data": {
      "text/plain": [
       "['Осуществленное прогрессирование прогрессирования на протяженность соблюдения прогрессирования поверхностного заболевания при',\n",
       " 'Введение.',\n",
       " 'Осуществленное выполнение прогрессирования выполнения самооценки осуществления.',\n",
       " 'Выводы Проведение реализации перекрестного отклонения высокого отдела своевременного заболевания с последующей реализацией.',\n",
       " 'Выводы Проведение аналогичного отклонения прогрессирования во всех случаях прогрессирования осуществления во всех случаях про']"
      ]
     },
     "execution_count": 20,
     "metadata": {},
     "output_type": "execute_result"
    }
   ],
   "source": [
    "translations[0]"
   ]
  },
  {
   "cell_type": "code",
   "execution_count": 23,
   "id": "ab8ad26a",
   "metadata": {},
   "outputs": [
    {
     "data": {
      "application/vnd.jupyter.widget-view+json": {
       "model_id": "29653db0dd634ea6991464f114fde570",
       "version_major": 2,
       "version_minor": 0
      },
      "text/plain": [
       "Calculating entropy:   0%|          | 0/283 [00:00<?, ?it/s]"
      ]
     },
     "metadata": {},
     "output_type": "display_data"
    }
   ],
   "source": [
    "entropy_per_sample = []\n",
    "\n",
    "for translations_per_sample in tqdm(translations, desc=\"Calculating entropy\"):\n",
    "    # Get semantic ids for each translation.\n",
    "    semantic_ids = get_semantic_ids(translations_per_sample, entailment_model)\n",
    "    # Calculate entropy for the sample.\n",
    "    entropy = cluster_assignment_entropy(semantic_ids)\n",
    "    entropy_per_sample.append(entropy)"
   ]
  },
  {
   "cell_type": "code",
   "execution_count": 25,
   "id": "c1b005ad",
   "metadata": {},
   "outputs": [
    {
     "data": {
      "text/plain": [
       "count    283.000000\n",
       "mean       0.626387\n",
       "std        0.595137\n",
       "min       -0.000000\n",
       "25%       -0.000000\n",
       "50%        0.500402\n",
       "75%        1.054920\n",
       "max        1.609438\n",
       "dtype: float64"
      ]
     },
     "execution_count": 25,
     "metadata": {},
     "output_type": "execute_result"
    }
   ],
   "source": [
    "import pandas as pd\n",
    "pd.Series(entropy_per_sample).describe()"
   ]
  },
  {
   "cell_type": "code",
   "execution_count": 26,
   "id": "695615b7",
   "metadata": {},
   "outputs": [],
   "source": [
    "to_evaluate = pd.DataFrame({\n",
    "    \"source\": dataset['en'],\n",
    "    \"translation\": [t[0] for t in translations],\n",
    "    \"ground_truth\": dataset['ru'],\n",
    "    \"entropy\": entropy_per_sample,\n",
    "})"
   ]
  },
  {
   "cell_type": "code",
   "execution_count": 27,
   "id": "44cc5d54",
   "metadata": {},
   "outputs": [
    {
     "data": {
      "text/html": [
       "<div>\n",
       "<style scoped>\n",
       "    .dataframe tbody tr th:only-of-type {\n",
       "        vertical-align: middle;\n",
       "    }\n",
       "\n",
       "    .dataframe tbody tr th {\n",
       "        vertical-align: top;\n",
       "    }\n",
       "\n",
       "    .dataframe thead th {\n",
       "        text-align: right;\n",
       "    }\n",
       "</style>\n",
       "<table border=\"1\" class=\"dataframe\">\n",
       "  <thead>\n",
       "    <tr style=\"text-align: right;\">\n",
       "      <th></th>\n",
       "      <th>source</th>\n",
       "      <th>translation</th>\n",
       "      <th>ground_truth</th>\n",
       "      <th>entropy</th>\n",
       "    </tr>\n",
       "  </thead>\n",
       "  <tbody>\n",
       "    <tr>\n",
       "      <th>0</th>\n",
       "      <td>Conclusion</td>\n",
       "      <td>Осуществленное прогрессирование прогрессирован...</td>\n",
       "      <td>Вывод</td>\n",
       "      <td>1.054920</td>\n",
       "    </tr>\n",
       "    <tr>\n",
       "      <th>1</th>\n",
       "      <td>Future research should investigate how to main...</td>\n",
       "      <td>Будущие исследования должны изучить, как подде...</td>\n",
       "      <td>В дальнейшем исследователям предстоит выяснить...</td>\n",
       "      <td>1.332179</td>\n",
       "    </tr>\n",
       "    <tr>\n",
       "      <th>2</th>\n",
       "      <td>AIM</td>\n",
       "      <td>Цель исследования. Оценка высокой степени возм...</td>\n",
       "      <td>Цель исследования.</td>\n",
       "      <td>1.609438</td>\n",
       "    </tr>\n",
       "    <tr>\n",
       "      <th>3</th>\n",
       "      <td>To investigate the brain activity impairment i...</td>\n",
       "      <td>Изучение активности головного мозга у пациенто...</td>\n",
       "      <td>Изучение особенностей нарушения деятельности м...</td>\n",
       "      <td>0.950271</td>\n",
       "    </tr>\n",
       "    <tr>\n",
       "      <th>4</th>\n",
       "      <td>MATERIAL AND METHODS</td>\n",
       "      <td>Цель исследования - сравнительная степень прог...</td>\n",
       "      <td>Материал и методы.</td>\n",
       "      <td>0.950271</td>\n",
       "    </tr>\n",
       "    <tr>\n",
       "      <th>...</th>\n",
       "      <td>...</td>\n",
       "      <td>...</td>\n",
       "      <td>...</td>\n",
       "      <td>...</td>\n",
       "    </tr>\n",
       "    <tr>\n",
       "      <th>278</th>\n",
       "      <td>The AVM intranidal vessels are exposed to abno...</td>\n",
       "      <td>Интранидальные сосуды АВМ влияют на аномалии в...</td>\n",
       "      <td>Интранидальные сосуды АВМ подвергаются воздейс...</td>\n",
       "      <td>0.500402</td>\n",
       "    </tr>\n",
       "    <tr>\n",
       "      <th>279</th>\n",
       "      <td>The existence of cerebral AVM is determined by...</td>\n",
       "      <td>Существующие АВМ головного мозга определяют бо...</td>\n",
       "      <td>Cуществование церебральных АВМ определяют боле...</td>\n",
       "      <td>-0.000000</td>\n",
       "    </tr>\n",
       "    <tr>\n",
       "      <th>280</th>\n",
       "      <td>The possible causes of AVM relapse after remov...</td>\n",
       "      <td>Описаны возможные причины рецидива АВМ после у...</td>\n",
       "      <td>Описаны возможные причины рецидива АВМ после у...</td>\n",
       "      <td>-0.000000</td>\n",
       "    </tr>\n",
       "    <tr>\n",
       "      <th>281</th>\n",
       "      <td>In response to this, growth factors are expres...</td>\n",
       "      <td>В ответ на это в эндотелии выражены факторы ро...</td>\n",
       "      <td>В ответ на это в эндотелии экспрессируются фак...</td>\n",
       "      <td>0.500402</td>\n",
       "    </tr>\n",
       "    <tr>\n",
       "      <th>282</th>\n",
       "      <td>Understanding the complex molecular biology of...</td>\n",
       "      <td>Понимание комплексной молекулярной биологии АВ...</td>\n",
       "      <td>Понимание сложной молекулярной биологии АВМ им...</td>\n",
       "      <td>-0.000000</td>\n",
       "    </tr>\n",
       "  </tbody>\n",
       "</table>\n",
       "<p>283 rows × 4 columns</p>\n",
       "</div>"
      ],
      "text/plain": [
       "                                                source  \\\n",
       "0                                           Conclusion   \n",
       "1    Future research should investigate how to main...   \n",
       "2                                                  AIM   \n",
       "3    To investigate the brain activity impairment i...   \n",
       "4                                 MATERIAL AND METHODS   \n",
       "..                                                 ...   \n",
       "278  The AVM intranidal vessels are exposed to abno...   \n",
       "279  The existence of cerebral AVM is determined by...   \n",
       "280  The possible causes of AVM relapse after remov...   \n",
       "281  In response to this, growth factors are expres...   \n",
       "282  Understanding the complex molecular biology of...   \n",
       "\n",
       "                                           translation  \\\n",
       "0    Осуществленное прогрессирование прогрессирован...   \n",
       "1    Будущие исследования должны изучить, как подде...   \n",
       "2    Цель исследования. Оценка высокой степени возм...   \n",
       "3    Изучение активности головного мозга у пациенто...   \n",
       "4    Цель исследования - сравнительная степень прог...   \n",
       "..                                                 ...   \n",
       "278  Интранидальные сосуды АВМ влияют на аномалии в...   \n",
       "279  Существующие АВМ головного мозга определяют бо...   \n",
       "280  Описаны возможные причины рецидива АВМ после у...   \n",
       "281  В ответ на это в эндотелии выражены факторы ро...   \n",
       "282  Понимание комплексной молекулярной биологии АВ...   \n",
       "\n",
       "                                          ground_truth   entropy  \n",
       "0                                                Вывод  1.054920  \n",
       "1    В дальнейшем исследователям предстоит выяснить...  1.332179  \n",
       "2                                   Цель исследования.  1.609438  \n",
       "3    Изучение особенностей нарушения деятельности м...  0.950271  \n",
       "4                                   Материал и методы.  0.950271  \n",
       "..                                                 ...       ...  \n",
       "278  Интранидальные сосуды АВМ подвергаются воздейс...  0.500402  \n",
       "279  Cуществование церебральных АВМ определяют боле... -0.000000  \n",
       "280  Описаны возможные причины рецидива АВМ после у... -0.000000  \n",
       "281  В ответ на это в эндотелии экспрессируются фак...  0.500402  \n",
       "282  Понимание сложной молекулярной биологии АВМ им... -0.000000  \n",
       "\n",
       "[283 rows x 4 columns]"
      ]
     },
     "execution_count": 27,
     "metadata": {},
     "output_type": "execute_result"
    }
   ],
   "source": [
    "to_evaluate"
   ]
  },
  {
   "cell_type": "code",
   "execution_count": 28,
   "id": "39adc179",
   "metadata": {},
   "outputs": [
    {
     "data": {
      "application/vnd.jupyter.widget-view+json": {
       "model_id": "eee6a6c687c64c9fa32b8d67363f4d89",
       "version_major": 2,
       "version_minor": 0
      },
      "text/plain": [
       "Fetching 5 files:   0%|          | 0/5 [00:00<?, ?it/s]"
      ]
     },
     "metadata": {},
     "output_type": "display_data"
    },
    {
     "name": "stderr",
     "output_type": "stream",
     "text": [
      "Lightning automatically upgraded your loaded checkpoint from v1.8.3.post1 to v2.5.1. To apply the upgrade to your files permanently, run `python -m pytorch_lightning.utilities.upgrade_checkpoint ../../../../home/scur2189/.cache/huggingface/hub/models--Unbabel--wmt22-comet-da/snapshots/2760a223ac957f30acfb18c8aa649b01cf1d75f2/checkpoints/model.ckpt`\n",
      "Encoder model frozen.\n",
      "/home/scur2189/.conda/envs/nmt/lib/python3.10/site-packages/pytorch_lightning/core/saving.py:195: Found keys that are not in the model state dict but in the checkpoint: ['encoder.model.embeddings.position_ids']\n",
      "/home/scur2189/.conda/envs/nmt/lib/python3.10/site-packages/lightning_fabric/plugins/environments/slurm.py:204: The `srun` command is available on your system but is not used. HINT: If your intention is to run Lightning on SLURM, prepend your python command with `srun` like so: srun python /home/scur2189/.conda/envs/nmt/lib/python3.10/site-p ...\n",
      "You are using the plain ModelCheckpoint callback. Consider using LitModelCheckpoint which with seamless uploading to Model registry.\n",
      "GPU available: True (cuda), used: True\n",
      "TPU available: False, using: 0 TPU cores\n",
      "HPU available: False, using: 0 HPUs\n",
      "You are using a CUDA device ('NVIDIA A100-SXM4-40GB') that has Tensor Cores. To properly utilize them, you should set `torch.set_float32_matmul_precision('medium' | 'high')` which will trade-off precision for performance. For more details, read https://pytorch.org/docs/stable/generated/torch.set_float32_matmul_precision.html#torch.set_float32_matmul_precision\n",
      "LOCAL_RANK: 0 - CUDA_VISIBLE_DEVICES: [0]\n",
      "huggingface/tokenizers: The current process just got forked, after parallelism has already been used. Disabling parallelism to avoid deadlocks...\n",
      "To disable this warning, you can either:\n",
      "\t- Avoid using `tokenizers` before the fork if possible\n",
      "\t- Explicitly set the environment variable TOKENIZERS_PARALLELISM=(true | false)\n",
      "huggingface/tokenizers: The current process just got forked, after parallelism has already been used. Disabling parallelism to avoid deadlocks...\n",
      "To disable this warning, you can either:\n",
      "\t- Avoid using `tokenizers` before the fork if possible\n",
      "\t- Explicitly set the environment variable TOKENIZERS_PARALLELISM=(true | false)\n"
     ]
    },
    {
     "name": "stdout",
     "output_type": "stream",
     "text": [
      "BLEU score: 14.910319243196918\n",
      "COMET score: 0.6877999313096697\n"
     ]
    },
    {
     "data": {
      "application/vnd.jupyter.widget-view+json": {
       "model_id": "0364300ea9314303a1bb607935ac2840",
       "version_major": 2,
       "version_minor": 0
      },
      "text/plain": [
       "Fetching 5 files:   0%|          | 0/5 [00:00<?, ?it/s]"
      ]
     },
     "metadata": {},
     "output_type": "display_data"
    },
    {
     "name": "stderr",
     "output_type": "stream",
     "text": [
      "Lightning automatically upgraded your loaded checkpoint from v1.8.3.post1 to v2.5.1. To apply the upgrade to your files permanently, run `python -m pytorch_lightning.utilities.upgrade_checkpoint ../../../../home/scur2189/.cache/huggingface/hub/models--Unbabel--wmt22-comet-da/snapshots/2760a223ac957f30acfb18c8aa649b01cf1d75f2/checkpoints/model.ckpt`\n",
      "Encoder model frozen.\n",
      "/home/scur2189/.conda/envs/nmt/lib/python3.10/site-packages/pytorch_lightning/core/saving.py:195: Found keys that are not in the model state dict but in the checkpoint: ['encoder.model.embeddings.position_ids']\n",
      "/home/scur2189/.conda/envs/nmt/lib/python3.10/site-packages/lightning_fabric/plugins/environments/slurm.py:204: The `srun` command is available on your system but is not used. HINT: If your intention is to run Lightning on SLURM, prepend your python command with `srun` like so: srun python /home/scur2189/.conda/envs/nmt/lib/python3.10/site-p ...\n",
      "You are using the plain ModelCheckpoint callback. Consider using LitModelCheckpoint which with seamless uploading to Model registry.\n",
      "GPU available: True (cuda), used: True\n",
      "TPU available: False, using: 0 TPU cores\n",
      "HPU available: False, using: 0 HPUs\n",
      "LOCAL_RANK: 0 - CUDA_VISIBLE_DEVICES: [0]\n",
      "huggingface/tokenizers: The current process just got forked, after parallelism has already been used. Disabling parallelism to avoid deadlocks...\n",
      "To disable this warning, you can either:\n",
      "\t- Avoid using `tokenizers` before the fork if possible\n",
      "\t- Explicitly set the environment variable TOKENIZERS_PARALLELISM=(true | false)\n",
      "huggingface/tokenizers: The current process just got forked, after parallelism has already been used. Disabling parallelism to avoid deadlocks...\n",
      "To disable this warning, you can either:\n",
      "\t- Avoid using `tokenizers` before the fork if possible\n",
      "\t- Explicitly set the environment variable TOKENIZERS_PARALLELISM=(true | false)\n"
     ]
    },
    {
     "name": "stdout",
     "output_type": "stream",
     "text": [
      "BLEU score: 14.894363660378385\n",
      "COMET score: 0.6999638590991027\n"
     ]
    },
    {
     "data": {
      "application/vnd.jupyter.widget-view+json": {
       "model_id": "7a8764c6278a485aa3c4e9910ed15e1d",
       "version_major": 2,
       "version_minor": 0
      },
      "text/plain": [
       "Fetching 5 files:   0%|          | 0/5 [00:00<?, ?it/s]"
      ]
     },
     "metadata": {},
     "output_type": "display_data"
    },
    {
     "name": "stderr",
     "output_type": "stream",
     "text": [
      "Lightning automatically upgraded your loaded checkpoint from v1.8.3.post1 to v2.5.1. To apply the upgrade to your files permanently, run `python -m pytorch_lightning.utilities.upgrade_checkpoint ../../../../home/scur2189/.cache/huggingface/hub/models--Unbabel--wmt22-comet-da/snapshots/2760a223ac957f30acfb18c8aa649b01cf1d75f2/checkpoints/model.ckpt`\n",
      "Encoder model frozen.\n",
      "/home/scur2189/.conda/envs/nmt/lib/python3.10/site-packages/pytorch_lightning/core/saving.py:195: Found keys that are not in the model state dict but in the checkpoint: ['encoder.model.embeddings.position_ids']\n",
      "/home/scur2189/.conda/envs/nmt/lib/python3.10/site-packages/lightning_fabric/plugins/environments/slurm.py:204: The `srun` command is available on your system but is not used. HINT: If your intention is to run Lightning on SLURM, prepend your python command with `srun` like so: srun python /home/scur2189/.conda/envs/nmt/lib/python3.10/site-p ...\n",
      "You are using the plain ModelCheckpoint callback. Consider using LitModelCheckpoint which with seamless uploading to Model registry.\n",
      "GPU available: True (cuda), used: True\n",
      "TPU available: False, using: 0 TPU cores\n",
      "HPU available: False, using: 0 HPUs\n",
      "LOCAL_RANK: 0 - CUDA_VISIBLE_DEVICES: [0]\n",
      "huggingface/tokenizers: The current process just got forked, after parallelism has already been used. Disabling parallelism to avoid deadlocks...\n",
      "To disable this warning, you can either:\n",
      "\t- Avoid using `tokenizers` before the fork if possible\n",
      "\t- Explicitly set the environment variable TOKENIZERS_PARALLELISM=(true | false)\n",
      "huggingface/tokenizers: The current process just got forked, after parallelism has already been used. Disabling parallelism to avoid deadlocks...\n",
      "To disable this warning, you can either:\n",
      "\t- Avoid using `tokenizers` before the fork if possible\n",
      "\t- Explicitly set the environment variable TOKENIZERS_PARALLELISM=(true | false)\n"
     ]
    },
    {
     "name": "stdout",
     "output_type": "stream",
     "text": [
      "BLEU score: 14.473956265598268\n",
      "COMET score: 0.710762865511717\n"
     ]
    },
    {
     "data": {
      "application/vnd.jupyter.widget-view+json": {
       "model_id": "ab5ea52f73c84caf9015d58af57a6b79",
       "version_major": 2,
       "version_minor": 0
      },
      "text/plain": [
       "Fetching 5 files:   0%|          | 0/5 [00:00<?, ?it/s]"
      ]
     },
     "metadata": {},
     "output_type": "display_data"
    },
    {
     "name": "stderr",
     "output_type": "stream",
     "text": [
      "Lightning automatically upgraded your loaded checkpoint from v1.8.3.post1 to v2.5.1. To apply the upgrade to your files permanently, run `python -m pytorch_lightning.utilities.upgrade_checkpoint ../../../../home/scur2189/.cache/huggingface/hub/models--Unbabel--wmt22-comet-da/snapshots/2760a223ac957f30acfb18c8aa649b01cf1d75f2/checkpoints/model.ckpt`\n",
      "Encoder model frozen.\n",
      "/home/scur2189/.conda/envs/nmt/lib/python3.10/site-packages/pytorch_lightning/core/saving.py:195: Found keys that are not in the model state dict but in the checkpoint: ['encoder.model.embeddings.position_ids']\n",
      "/home/scur2189/.conda/envs/nmt/lib/python3.10/site-packages/lightning_fabric/plugins/environments/slurm.py:204: The `srun` command is available on your system but is not used. HINT: If your intention is to run Lightning on SLURM, prepend your python command with `srun` like so: srun python /home/scur2189/.conda/envs/nmt/lib/python3.10/site-p ...\n",
      "You are using the plain ModelCheckpoint callback. Consider using LitModelCheckpoint which with seamless uploading to Model registry.\n",
      "GPU available: True (cuda), used: True\n",
      "TPU available: False, using: 0 TPU cores\n",
      "HPU available: False, using: 0 HPUs\n",
      "LOCAL_RANK: 0 - CUDA_VISIBLE_DEVICES: [0]\n",
      "huggingface/tokenizers: The current process just got forked, after parallelism has already been used. Disabling parallelism to avoid deadlocks...\n",
      "To disable this warning, you can either:\n",
      "\t- Avoid using `tokenizers` before the fork if possible\n",
      "\t- Explicitly set the environment variable TOKENIZERS_PARALLELISM=(true | false)\n",
      "huggingface/tokenizers: The current process just got forked, after parallelism has already been used. Disabling parallelism to avoid deadlocks...\n",
      "To disable this warning, you can either:\n",
      "\t- Avoid using `tokenizers` before the fork if possible\n",
      "\t- Explicitly set the environment variable TOKENIZERS_PARALLELISM=(true | false)\n"
     ]
    },
    {
     "name": "stdout",
     "output_type": "stream",
     "text": [
      "BLEU score: 14.710663205646494\n",
      "COMET score: 0.7186734069778462\n"
     ]
    },
    {
     "data": {
      "application/vnd.jupyter.widget-view+json": {
       "model_id": "7698e9bc87c249a59a482738c34130da",
       "version_major": 2,
       "version_minor": 0
      },
      "text/plain": [
       "Fetching 5 files:   0%|          | 0/5 [00:00<?, ?it/s]"
      ]
     },
     "metadata": {},
     "output_type": "display_data"
    },
    {
     "name": "stderr",
     "output_type": "stream",
     "text": [
      "Lightning automatically upgraded your loaded checkpoint from v1.8.3.post1 to v2.5.1. To apply the upgrade to your files permanently, run `python -m pytorch_lightning.utilities.upgrade_checkpoint ../../../../home/scur2189/.cache/huggingface/hub/models--Unbabel--wmt22-comet-da/snapshots/2760a223ac957f30acfb18c8aa649b01cf1d75f2/checkpoints/model.ckpt`\n",
      "Encoder model frozen.\n",
      "/home/scur2189/.conda/envs/nmt/lib/python3.10/site-packages/pytorch_lightning/core/saving.py:195: Found keys that are not in the model state dict but in the checkpoint: ['encoder.model.embeddings.position_ids']\n",
      "/home/scur2189/.conda/envs/nmt/lib/python3.10/site-packages/lightning_fabric/plugins/environments/slurm.py:204: The `srun` command is available on your system but is not used. HINT: If your intention is to run Lightning on SLURM, prepend your python command with `srun` like so: srun python /home/scur2189/.conda/envs/nmt/lib/python3.10/site-p ...\n",
      "You are using the plain ModelCheckpoint callback. Consider using LitModelCheckpoint which with seamless uploading to Model registry.\n",
      "GPU available: True (cuda), used: True\n",
      "TPU available: False, using: 0 TPU cores\n",
      "HPU available: False, using: 0 HPUs\n",
      "LOCAL_RANK: 0 - CUDA_VISIBLE_DEVICES: [0]\n",
      "huggingface/tokenizers: The current process just got forked, after parallelism has already been used. Disabling parallelism to avoid deadlocks...\n",
      "To disable this warning, you can either:\n",
      "\t- Avoid using `tokenizers` before the fork if possible\n",
      "\t- Explicitly set the environment variable TOKENIZERS_PARALLELISM=(true | false)\n",
      "huggingface/tokenizers: The current process just got forked, after parallelism has already been used. Disabling parallelism to avoid deadlocks...\n",
      "To disable this warning, you can either:\n",
      "\t- Avoid using `tokenizers` before the fork if possible\n",
      "\t- Explicitly set the environment variable TOKENIZERS_PARALLELISM=(true | false)\n"
     ]
    },
    {
     "name": "stdout",
     "output_type": "stream",
     "text": [
      "BLEU score: 14.858824451333557\n",
      "COMET score: 0.731553391592037\n"
     ]
    },
    {
     "data": {
      "application/vnd.jupyter.widget-view+json": {
       "model_id": "9a6f998b0a534f5d83f8c750907bdd24",
       "version_major": 2,
       "version_minor": 0
      },
      "text/plain": [
       "Fetching 5 files:   0%|          | 0/5 [00:00<?, ?it/s]"
      ]
     },
     "metadata": {},
     "output_type": "display_data"
    },
    {
     "name": "stderr",
     "output_type": "stream",
     "text": [
      "Lightning automatically upgraded your loaded checkpoint from v1.8.3.post1 to v2.5.1. To apply the upgrade to your files permanently, run `python -m pytorch_lightning.utilities.upgrade_checkpoint ../../../../home/scur2189/.cache/huggingface/hub/models--Unbabel--wmt22-comet-da/snapshots/2760a223ac957f30acfb18c8aa649b01cf1d75f2/checkpoints/model.ckpt`\n",
      "Encoder model frozen.\n",
      "/home/scur2189/.conda/envs/nmt/lib/python3.10/site-packages/pytorch_lightning/core/saving.py:195: Found keys that are not in the model state dict but in the checkpoint: ['encoder.model.embeddings.position_ids']\n",
      "/home/scur2189/.conda/envs/nmt/lib/python3.10/site-packages/lightning_fabric/plugins/environments/slurm.py:204: The `srun` command is available on your system but is not used. HINT: If your intention is to run Lightning on SLURM, prepend your python command with `srun` like so: srun python /home/scur2189/.conda/envs/nmt/lib/python3.10/site-p ...\n",
      "You are using the plain ModelCheckpoint callback. Consider using LitModelCheckpoint which with seamless uploading to Model registry.\n",
      "GPU available: True (cuda), used: True\n",
      "TPU available: False, using: 0 TPU cores\n",
      "HPU available: False, using: 0 HPUs\n",
      "LOCAL_RANK: 0 - CUDA_VISIBLE_DEVICES: [0]\n",
      "huggingface/tokenizers: The current process just got forked, after parallelism has already been used. Disabling parallelism to avoid deadlocks...\n",
      "To disable this warning, you can either:\n",
      "\t- Avoid using `tokenizers` before the fork if possible\n",
      "\t- Explicitly set the environment variable TOKENIZERS_PARALLELISM=(true | false)\n",
      "huggingface/tokenizers: The current process just got forked, after parallelism has already been used. Disabling parallelism to avoid deadlocks...\n",
      "To disable this warning, you can either:\n",
      "\t- Avoid using `tokenizers` before the fork if possible\n",
      "\t- Explicitly set the environment variable TOKENIZERS_PARALLELISM=(true | false)\n"
     ]
    },
    {
     "name": "stdout",
     "output_type": "stream",
     "text": [
      "BLEU score: 15.259982233535588\n",
      "COMET score: 0.7467159715527338\n"
     ]
    }
   ],
   "source": [
    "results = []\n",
    "\n",
    "for to_remove in [0, 0.1, 0.2, 0.3, 0.4, 0.5]:\n",
    "    # remove to_remove percent of the samples with the highest entropy\n",
    "    to_evaluate_filtered = to_evaluate.sort_values(\"entropy\").iloc[:int(len(to_evaluate) * (1 - to_remove))]\n",
    "    # calculate BLEU score\n",
    "\n",
    "    bleu_score = compute_bleu(\n",
    "               tgt = to_evaluate_filtered[\"ground_truth\"].tolist(),\n",
    "               preds = to_evaluate_filtered[\"translation\"].tolist(),\n",
    "    )\n",
    "\n",
    "    comet_score = compute_comet(\n",
    "                src = to_evaluate_filtered[\"source\"].tolist(),\n",
    "                tgt = to_evaluate_filtered[\"ground_truth\"].tolist(),\n",
    "                preds = to_evaluate_filtered[\"translation\"].tolist(),\n",
    "     )\n",
    "    \n",
    "    print(f\"BLEU score: {bleu_score}\")\n",
    "    print(f\"COMET score: {comet_score}\")\n",
    "    \n",
    "    results.append({\n",
    "        \"to_remove\": to_remove,\n",
    "        \"bleu_score\": bleu_score,\n",
    "        \"comet_score\": comet_score,\n",
    "    })"
   ]
  },
  {
   "cell_type": "code",
   "execution_count": null,
   "id": "c2b6ac95",
   "metadata": {},
   "outputs": [
    {
     "data": {
      "text/plain": [
       "<Axes: xlabel='to_remove'>"
      ]
     },
     "execution_count": 34,
     "metadata": {},
     "output_type": "execute_result"
    },
    {
     "data": {
      "image/png": "[encoded data removed]",
      "text/plain": [
       "<Figure size 640x480 with 1 Axes>"
      ]
     },
     "metadata": {},
     "output_type": "display_data"
    }
   ],
   "source": [
    "results_df = pd.DataFrame(results)\n",
    "results_df[['to_remove', 'comet_score']].plot(x='to_remove', y='comet_score', marker='o')\n",
    "results_df[['to_remove', 'bleu_score']].plot(x='to_remove', y='bleu_score', marker='o')"
   ]
  },
  {
   "cell_type": "code",
   "execution_count": 45,
   "id": "18d1a32c",
   "metadata": {},
   "outputs": [
    {
     "data": {
      "image/png": "[encoded data removed]",
      "text/plain": [
       "<Figure size 500x300 with 2 Axes>"
      ]
     },
     "metadata": {},
     "output_type": "display_data"
    }
   ],
   "source": [
    "import matplotlib.pyplot as plt\n",
    "\n",
    "# Assume results_df is already defined\n",
    "# Convert to_remove to percentage\n",
    "results_df['to_remove_pct'] = results_df['to_remove'] * 100\n",
    "\n",
    "# Create the figure and primary axis\n",
    "fig, ax1 = plt.subplots(figsize=(5, 3))\n",
    "\n",
    "# Plot BLEU scores on the primary y-axis\n",
    "ax1.plot(results_df['to_remove_pct'], results_df['bleu_score'], marker='o', label='BLEU Score', color='tab:blue')\n",
    "ax1.set_xlabel('Percentage of Highest Entropy Samples Removed (%)')\n",
    "ax1.set_ylabel('BLEU Score')\n",
    "ax1.tick_params(axis='y', labelcolor='tab:blue')\n",
    "\n",
    "# Create secondary y-axis for COMET scores\n",
    "ax2 = ax1.twinx()\n",
    "ax2.plot(results_df['to_remove_pct'], results_df['comet_score'], marker='o', label='COMET Score', color='tab:orange')\n",
    "ax2.set_ylabel('COMET Score')\n",
    "ax2.tick_params(axis='y', labelcolor='tab:orange', labelsize=10)\n",
    "\n",
    "# Combine legends from both axes\n",
    "lines_1, labels_1 = ax1.get_legend_handles_labels()\n",
    "lines_2, labels_2 = ax2.get_legend_handles_labels()\n",
    "ax1.legend(lines_1 + lines_2, labels_1 + labels_2, loc='best')\n",
    "\n",
    "# Improve layout\n",
    "fig.tight_layout()\n",
    "\n",
    "plt.title('WMT Biomed: Impact of Removing \\n High Semantic Entropy Translations on Metrics')\n",
    "\n",
    "# Display the plot\n",
    "plt.show()\n"
   ]
  },
  {
   "cell_type": "code",
   "execution_count": null,
   "id": "d5304cde",
   "metadata": {},
   "outputs": [],
   "source": []
  }
 ],
 "metadata": {
  "kernelspec": {
   "display_name": "Python 3 (ipykernel)",
   "language": "python",
   "name": "python3"
  },
  "language_info": {
   "codemirror_mode": {
    "name": "ipython",
    "version": 3
   },
   "file_extension": ".py",
   "mimetype": "text/x-python",
   "name": "python",
   "nbconvert_exporter": "python",
   "pygments_lexer": "ipython3",
   "version": "3.10.16"
  }
 },
 "nbformat": 4,
 "nbformat_minor": 5
}
