{
 "cells": [
  {
   "cell_type": "code",
   "execution_count": 2,
   "id": "ef806b66",
   "metadata": {},
   "outputs": [],
   "source": [
    "%load_ext autoreload\n",
    "%autoreload 2"
   ]
  },
  {
   "cell_type": "code",
   "execution_count": 4,
   "id": "b9555193",
   "metadata": {},
   "outputs": [],
   "source": [
    "from lib.synthetic_data import generate_pair, expand_dataset_parallel\n",
    "import openai"
   ]
  },
  {
   "cell_type": "code",
   "execution_count": 9,
   "id": "4dc84f7a",
   "metadata": {},
   "outputs": [],
   "source": [
    "# Difficult and highly technical sentences in Russian in biomedical domain\n",
    "# to assess variations quality\n",
    "russian_sentences = [\n",
    "    \"Мультифакторный анализ показал статистически значимую корреляцию между экспрессией гена P53 и агрессивностью опухоли при колоректальном раке.\",\n",
    "    \"Использование ингибиторов тирозинкиназы второго поколения существенно улучшило выживаемость пациентов с хроническим миелоидным лейкозом в фазе акселерации.\",\n",
    "    \"Молекулярное профилирование с применением высокопроизводительного секвенирования выявило мутации в экзонах 18-21 гена EGFR, ассоциированные с резистентностью к терапии ингибиторами тирозинкиназы.\"\n",
    "    \"Анализ генетических маркеров показал, что мутации в гене KRAS могут предсказывать неэффективность терапии анти-EGFR у пациентов с метастатическим колоректальным раком.\",\n",
    "    \"Исследование показало, что уровень экспрессии PD-L1 в опухолевых клетках является прогностическим маркером для оценки эффективности иммунотерапии у пациентов с немелкоклеточным раком легкого.\",\n",
    "]\n",
    "\n",
    "reference_translations = [\n",
    "    \"Multifactorial analysis revealed a statistically significant correlation between P53 gene expression and tumor aggressiveness in colorectal cancer.\",\n",
    "    \"The use of second-generation tyrosine kinase inhibitors has significantly improved survival rates in patients with chronic myeloid leukemia in the accelerated phase.\",\n",
    "    \"Molecular profiling using high-throughput sequencing identified mutations in exons 18-21 of the EGFR gene associated with resistance to tyrosine kinase inhibitor therapy.\"\n",
    "    \"Analysis of genetic markers showed that mutations in the KRAS gene may predict the ineffectiveness of anti-EGFR therapy in patients with metastatic colorectal cancer.\",\n",
    "    \"The study showed that PD-L1 expression levels in tumor cells are a prognostic marker for assessing the effectiveness of immunotherapy in patients with non-small cell lung cancer.\",\n",
    "]"
   ]
  },
  {
   "cell_type": "code",
   "execution_count": null,
   "id": "312ea2ed",
   "metadata": {},
   "outputs": [],
   "source": [
    "client = openai.Client(\n",
    "    api_key=\n",
    ")"
   ]
  },
  {
   "cell_type": "code",
   "execution_count": 7,
   "id": "b187559e",
   "metadata": {},
   "outputs": [
    {
     "data": {
      "text/plain": [
       "{'ru': 'Комплексный анализ продемонстрировал значимую статистическую связь между уровнем экспрессии гена P53 и степенью злокачественности опухоли при колоректальном раке.  ',\n",
       " 'en': 'Comprehensive analysis demonstrated a significant statistical association between the level of P53 gene expression and the malignancy degree of the tumor in colorectal cancer.',\n",
       " 'idx': 0}"
      ]
     },
     "execution_count": 7,
     "metadata": {},
     "output_type": "execute_result"
    }
   ],
   "source": [
    "generate_pair(\n",
    "    client,\n",
    "    russian_sentences[0],\n",
    "    reference_translations[0],\n",
    ")"
   ]
  },
  {
   "cell_type": "code",
   "execution_count": null,
   "id": "c1379af6",
   "metadata": {},
   "outputs": [
    {
     "name": "stderr",
     "output_type": "stream",
     "text": [
      "Generating pairs: 100%|█████████████████████████████████████████████████████████████████████████████████████████████| 4/4 [00:00<00:00, 77.65it/s]\n",
      "Writing pairs: 100%|████████████████████████████████████████████████████████████████████████████████████████████████| 8/8 [00:03<00:00,  2.37it/s]\n"
     ]
    }
   ],
   "source": [
    "expand_dataset_parallel(\n",
    "    pairs=list(zip(russian_sentences, reference_translations)),\n",
    "    out_file=\"results/synthetic_data/small_test.jsonl\",\n",
    "    new_samples_per_pair=2,\n",
    "    api_key=\n",
    ")"
   ]
  },
  {
   "cell_type": "code",
   "execution_count": 14,
   "id": "4a2e087b",
   "metadata": {},
   "outputs": [
    {
     "data": {
      "text/html": [
       "<div>\n",
       "<style scoped>\n",
       "    .dataframe tbody tr th:only-of-type {\n",
       "        vertical-align: middle;\n",
       "    }\n",
       "\n",
       "    .dataframe tbody tr th {\n",
       "        vertical-align: top;\n",
       "    }\n",
       "\n",
       "    .dataframe thead th {\n",
       "        text-align: right;\n",
       "    }\n",
       "</style>\n",
       "<table border=\"1\" class=\"dataframe\">\n",
       "  <thead>\n",
       "    <tr style=\"text-align: right;\">\n",
       "      <th></th>\n",
       "      <th>ru</th>\n",
       "      <th>en</th>\n",
       "      <th>idx</th>\n",
       "    </tr>\n",
       "  </thead>\n",
       "  <tbody>\n",
       "    <tr>\n",
       "      <th>0</th>\n",
       "      <td>Применение ингибиторов тирозинкиназы второго п...</td>\n",
       "      <td>The application of second-generation tyrosine ...</td>\n",
       "      <td>0</td>\n",
       "    </tr>\n",
       "    <tr>\n",
       "      <th>1</th>\n",
       "      <td>Применение ингибиторов тирозинкиназы второго п...</td>\n",
       "      <td>The application of second-generation tyrosine ...</td>\n",
       "      <td>0</td>\n",
       "    </tr>\n",
       "    <tr>\n",
       "      <th>2</th>\n",
       "      <td>Анализ выявил, что уровень экспрессии PD-L1 в ...</td>\n",
       "      <td>The analysis revealed that PD-L1 expression le...</td>\n",
       "      <td>0</td>\n",
       "    </tr>\n",
       "    <tr>\n",
       "      <th>3</th>\n",
       "      <td>Комплексный анализ выявил значимую статистичес...</td>\n",
       "      <td>Comprehensive analysis identified a statistica...</td>\n",
       "      <td>0</td>\n",
       "    </tr>\n",
       "    <tr>\n",
       "      <th>4</th>\n",
       "      <td>Комплексный анализ данных выявил значимую стат...</td>\n",
       "      <td>Comprehensive data analysis identified a stati...</td>\n",
       "      <td>0</td>\n",
       "    </tr>\n",
       "    <tr>\n",
       "      <th>5</th>\n",
       "      <td>Анализ выявил, что показатель экспрессии PD-L1...</td>\n",
       "      <td>The analysis revealed that PD-L1 expression le...</td>\n",
       "      <td>0</td>\n",
       "    </tr>\n",
       "    <tr>\n",
       "      <th>6</th>\n",
       "      <td>Исследование молекулярного профиля с помощью в...</td>\n",
       "      <td>Molecular profiling using high-throughput sequ...</td>\n",
       "      <td>0</td>\n",
       "    </tr>\n",
       "    <tr>\n",
       "      <th>7</th>\n",
       "      <td>Молекулярный анализ с применением секвенирован...</td>\n",
       "      <td>Molecular analysis using next-generation seque...</td>\n",
       "      <td>0</td>\n",
       "    </tr>\n",
       "  </tbody>\n",
       "</table>\n",
       "</div>"
      ],
      "text/plain": [
       "                                                  ru  \\\n",
       "0  Применение ингибиторов тирозинкиназы второго п...   \n",
       "1  Применение ингибиторов тирозинкиназы второго п...   \n",
       "2  Анализ выявил, что уровень экспрессии PD-L1 в ...   \n",
       "3  Комплексный анализ выявил значимую статистичес...   \n",
       "4  Комплексный анализ данных выявил значимую стат...   \n",
       "5  Анализ выявил, что показатель экспрессии PD-L1...   \n",
       "6  Исследование молекулярного профиля с помощью в...   \n",
       "7  Молекулярный анализ с применением секвенирован...   \n",
       "\n",
       "                                                  en  idx  \n",
       "0  The application of second-generation tyrosine ...    0  \n",
       "1  The application of second-generation tyrosine ...    0  \n",
       "2  The analysis revealed that PD-L1 expression le...    0  \n",
       "3  Comprehensive analysis identified a statistica...    0  \n",
       "4  Comprehensive data analysis identified a stati...    0  \n",
       "5  The analysis revealed that PD-L1 expression le...    0  \n",
       "6  Molecular profiling using high-throughput sequ...    0  \n",
       "7  Molecular analysis using next-generation seque...    0  "
      ]
     },
     "execution_count": 14,
     "metadata": {},
     "output_type": "execute_result"
    }
   ],
   "source": [
    "import pandas as pd\n",
    "pd.read_json(\"results/synthetic_data/small_test.jsonl\", lines=True)"
   ]
  }
 ],
 "metadata": {
  "kernelspec": {
   "display_name": "Python 3 (ipykernel)",
   "language": "python",
   "name": "python3"
  },
  "language_info": {
   "codemirror_mode": {
    "name": "ipython",
    "version": 3
   },
   "file_extension": ".py",
   "mimetype": "text/x-python",
   "name": "python",
   "nbconvert_exporter": "python",
   "pygments_lexer": "ipython3",
   "version": "3.10.16"
  }
 },
 "nbformat": 4,
 "nbformat_minor": 5
}
